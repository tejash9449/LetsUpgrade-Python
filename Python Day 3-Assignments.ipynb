{
 "cells": [
  {
   "cell_type": "markdown",
   "metadata": {},
   "source": [
    "## Assignment 1 :\n",
    "### sum of n numbers with help of while loop"
   ]
  },
  {
   "cell_type": "code",
   "execution_count": 1,
   "metadata": {},
   "outputs": [
    {
     "name": "stdout",
     "output_type": "stream",
     "text": [
      "Enter the Number:\n",
      " Note : Enter 0 to stop\t10\n",
      "Sum :  10\n",
      "Enter the Number:\n",
      " Note : Enter 0 to stop\t20\n",
      "Sum :  30\n",
      "Enter the Number:\n",
      " Note : Enter 0 to stop\t55\n",
      "Sum :  85\n",
      "Enter the Number:\n",
      " Note : Enter 0 to stop\t35\n",
      "Sum :  120\n",
      "Enter the Number:\n",
      " Note : Enter 0 to stop\t012\n",
      "Sum :  132\n",
      "Enter the Number:\n",
      " Note : Enter 0 to stop\t0\n",
      "The total sum is 132\n"
     ]
    }
   ],
   "source": [
    "sum1=0\n",
    "while True:\n",
    "    num = int(input(\"Enter the Number:\\n Note : Enter 0 to stop\\t\"))\n",
    "    sum1+=num\n",
    "    if num==0:\n",
    "        break\n",
    "    print(\"Sum : \",sum1)\n",
    "\n",
    "print(\"The total sum is\",sum1)\n"
   ]
  },
  {
   "cell_type": "markdown",
   "metadata": {},
   "source": [
    "## Assignment 2 :\n",
    "### Take a integer from user and find ---> prime or not"
   ]
  },
  {
   "cell_type": "code",
   "execution_count": 2,
   "metadata": {},
   "outputs": [
    {
     "name": "stdout",
     "output_type": "stream",
     "text": [
      "Enter the Numnber :\t47\n",
      "47 is a prime number\n"
     ]
    }
   ],
   "source": [
    "num=int(input(\"Enter the Numnber :\\t\"))\n",
    "if num > 1:\n",
    "   for i in range(2,num):\n",
    "       if (num % i) == 0:\n",
    "           print(num,\"is not a prime number\")\n",
    "           break\n",
    "   else:\n",
    "       print(num,\"is a prime number\")\n",
    "else:\n",
    "   print(num,\"is not a prime number\")"
   ]
  }
 ],
 "metadata": {
  "kernelspec": {
   "display_name": "Python 3",
   "language": "python",
   "name": "python3"
  },
  "language_info": {
   "codemirror_mode": {
    "name": "ipython",
    "version": 3
   },
   "file_extension": ".py",
   "mimetype": "text/x-python",
   "name": "python",
   "nbconvert_exporter": "python",
   "pygments_lexer": "ipython3",
   "version": "3.7.6"
  }
 },
 "nbformat": 4,
 "nbformat_minor": 4
}
