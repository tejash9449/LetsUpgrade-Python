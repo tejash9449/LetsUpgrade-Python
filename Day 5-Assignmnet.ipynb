{
 "cells": [
  {
   "cell_type": "markdown",
   "metadata": {},
   "source": [
    "# Day 5 - Assignmnet\n",
    "\n",
    "### 1. [0,1,2,10,4,1,0,56,2,0,1,3,0,56,0,4] - sort this list in increasing order but all zeros should be at right hand side"
   ]
  },
  {
   "cell_type": "code",
   "execution_count": 1,
   "metadata": {},
   "outputs": [
    {
     "data": {
      "text/plain": [
       "[1, 1, 1, 2, 2, 3, 4, 4, 10, 56, 56, 0, 0, 0, 0, 0]"
      ]
     },
     "execution_count": 1,
     "metadata": {},
     "output_type": "execute_result"
    }
   ],
   "source": [
    "# solution:\n",
    "list1=[0,1,2,10,4,1,0,56,2,0,1,3,0,56,0,4]\n",
    "list1.sort()\n",
    "list3=list1[:]\n",
    "list2=[list3.pop(0) for i in range(len(list1)) if list1[i]==0]\n",
    "list3+list2"
   ]
  },
  {
   "cell_type": "markdown",
   "metadata": {},
   "source": [
    "### 2. list1=[10,20,40,60,70,80] and list2=[5,15,25,35,45,60] .\n",
    "###     Merge these two sorted list so that it produce one sorted list,but use only one loop either while or for only one time.Note: don't use sort method"
   ]
  },
  {
   "cell_type": "code",
   "execution_count": 2,
   "metadata": {},
   "outputs": [],
   "source": [
    "list1=[10,20,40,60,70,80]\n",
    "list2=[5,15,25,35,45,60]"
   ]
  },
  {
   "cell_type": "code",
   "execution_count": 3,
   "metadata": {},
   "outputs": [
    {
     "data": {
      "text/plain": [
       "[5, 10, 15, 20, 25, 35, 40, 45, 60, 60, 70, 80]"
      ]
     },
     "execution_count": 3,
     "metadata": {},
     "output_type": "execute_result"
    }
   ],
   "source": [
    "n=len(list1)\n",
    "m=len(list2)\n",
    "i=j=0\n",
    "res=[]\n",
    "while i<n and j<m:\n",
    "    if list1[i]<list2[j]:\n",
    "        res.append(list1[i])\n",
    "        i+=1\n",
    "    else:\n",
    "        res.append(list2[j])\n",
    "        j+=1\n",
    "    \n",
    "    \n",
    "res=res+list1[i:]+list2[j:]\n",
    "\n",
    "\n",
    "res\n",
    "        \n",
    "    \n",
    "    "
   ]
  }
 ],
 "metadata": {
  "kernelspec": {
   "display_name": "Python 3",
   "language": "python",
   "name": "python3"
  },
  "language_info": {
   "codemirror_mode": {
    "name": "ipython",
    "version": 3
   },
   "file_extension": ".py",
   "mimetype": "text/x-python",
   "name": "python",
   "nbconvert_exporter": "python",
   "pygments_lexer": "ipython3",
   "version": "3.7.6"
  }
 },
 "nbformat": 4,
 "nbformat_minor": 4
}
