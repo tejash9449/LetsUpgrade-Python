{
 "cells": [
  {
   "cell_type": "markdown",
   "metadata": {},
   "source": [
    "# Python Day 7 - Assignment\n"
   ]
  },
  {
   "cell_type": "markdown",
   "metadata": {},
   "source": [
    "## Question 1:\n",
    "\n",
    "### use the dictionary,<br /> port1={21:\"FTP\",22:\"SSH\",23:\"telnet\",80:\"http\"} <br />and make a new dictionary in which keys become values and values become keys, as shown,<br /> Port2={'FTP': 21, 'SSH': 22, 'telnet': 23, 'http': 80}\n",
    "\n"
   ]
  },
  {
   "cell_type": "code",
   "execution_count": 1,
   "metadata": {
    "scrolled": true
   },
   "outputs": [
    {
     "name": "stdout",
     "output_type": "stream",
     "text": [
      "{'FTP': 21, 'SSH': 22, 'telnet': 23, 'http': 80}\n"
     ]
    }
   ],
   "source": [
    "port1={21:\"FTP\",22:\"SSH\",23:\"telnet\",80:\"http\"}\n",
    "keyp=list(port1.keys())\n",
    "valuep=list(port1.values())\n",
    "Port2={valuep[i]:keyp[i] for i in range(len(port1))}\n",
    "\n",
    "print(Port2)"
   ]
  },
  {
   "cell_type": "markdown",
   "metadata": {},
   "source": [
    "## Question 2:\n",
    "\n",
    "### Take a list of tuple as shown below.<br />[(1,2),(3,4),(5,6),(4,5)]<br />Make a new list which contains the sum of the number of tuples.For exmaple: <br />input<br />[(1,2),(3,4),(5,6)]<br />Output<br /> [3,7,11]                                                                                                                                                    \n",
    "    "
   ]
  },
  {
   "cell_type": "code",
   "execution_count": 2,
   "metadata": {},
   "outputs": [
    {
     "name": "stdout",
     "output_type": "stream",
     "text": [
      "[3, 7, 11, 9]\n"
     ]
    }
   ],
   "source": [
    "list1=[(1,2),(3,4),(5,6),(4,5)]\n",
    "result=[each[0]+each[1] for each in list1]\n",
    "\n",
    "print(result)"
   ]
  },
  {
   "cell_type": "markdown",
   "metadata": {},
   "source": [
    "## Question 3:\n",
    "\n",
    "### Take a list as shown below.<br />[(1,2,3),[1,2],['a','hit','less']]<br /> The List contains turple and lists.Make the element of inner list and tuples to outer list"
   ]
  },
  {
   "cell_type": "code",
   "execution_count": 3,
   "metadata": {},
   "outputs": [
    {
     "name": "stdout",
     "output_type": "stream",
     "text": [
      "[1, 2, 3, 1, 2, 'a', 'hit', 'less']\n"
     ]
    }
   ],
   "source": [
    "ilist=[(1,2,3),[1,2],['a','hit','less']]\n",
    "olist=[each[i] for each in ilist for i in range(len(each))]\n",
    "\n",
    "print(olist)"
   ]
  }
 ],
 "metadata": {
  "kernelspec": {
   "display_name": "Python 3",
   "language": "python",
   "name": "python3"
  },
  "language_info": {
   "codemirror_mode": {
    "name": "ipython",
    "version": 3
   },
   "file_extension": ".py",
   "mimetype": "text/x-python",
   "name": "python",
   "nbconvert_exporter": "python",
   "pygments_lexer": "ipython3",
   "version": "3.7.6"
  }
 },
 "nbformat": 4,
 "nbformat_minor": 4
}
